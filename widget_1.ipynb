{
 "cells": [
  {
   "cell_type": "code",
   "execution_count": 1,
   "metadata": {},
   "outputs": [],
   "source": [
    "import matplotlib.pyplot as plt\n",
    "import numpy as np \n",
    "from ipywidgets import interact\n",
    "np.random.seed(seed=567)\n"
   ]
  },
  {
   "cell_type": "code",
   "execution_count": 2,
   "metadata": {},
   "outputs": [],
   "source": [
    "def bar_chart(flips):\n",
    "    np.random.seed(seed=567) \n",
    "    result = np.random.binomial(n=5, p=0.5, size=flips)\n",
    "    fig = plt.figure()\n",
    "    ax = fig.add_subplot(111)\n",
    "    n, bins, patches = ax.hist(result, bins= np.arange(7)-0.5, rwidth=0.8, density = True)\n",
    "    ax.set_xlabel('Number of times throwing Heads', size=16)\n",
    "    ax.set_ylabel('Frequency', size=16)"
   ]
  },
  {
   "cell_type": "code",
   "execution_count": 3,
   "metadata": {},
   "outputs": [
    {
     "data": {
      "application/vnd.jupyter.widget-view+json": {
       "model_id": "92776e12688849cb84b6c4cca675c226",
       "version_major": 2,
       "version_minor": 0
      },
      "text/plain": [
       "interactive(children=(IntSlider(value=5000500, description='flips', max=10000000, min=1000, step=100), Output(…"
      ]
     },
     "metadata": {},
     "output_type": "display_data"
    }
   ],
   "source": [
    "interact(bar_chart, flips=(1000, 10000000, 100));"
   ]
  }
 ],
 "metadata": {
  "kernelspec": {
   "display_name": "Python 3",
   "language": "python",
   "name": "python3"
  },
  "language_info": {
   "codemirror_mode": {
    "name": "ipython",
    "version": 3
   },
   "file_extension": ".py",
   "mimetype": "text/x-python",
   "name": "python",
   "nbconvert_exporter": "python",
   "pygments_lexer": "ipython3",
   "version": "3.7.10"
  },
  "widgets": {
   "application/vnd.jupyter.widget-state+json": {
    "state": {
     "10ec5e31c54344149194177f6559b8f7": {
      "model_module": "@jupyter-widgets/base",
      "model_module_version": "1.2.0",
      "model_name": "LayoutModel",
      "state": {}
     },
     "17123a9a2f8d4f1aa997bb1e5f9c0f83": {
      "model_module": "@jupyter-widgets/output",
      "model_module_version": "1.0.0",
      "model_name": "OutputModel",
      "state": {
       "layout": "IPY_MODEL_b577946c04aa4acca1f1045a4c52ccef",
       "outputs": [
        {
         "data": {
          "image/png": "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\n",
          "text/plain": "<Figure size 432x288 with 1 Axes>"
         },
         "metadata": {
          "needs_background": "light"
         },
         "output_type": "display_data"
        }
       ]
      }
     },
     "20efe3ef24d24c64899d6ba6927a12df": {
      "model_module": "@jupyter-widgets/controls",
      "model_module_version": "1.5.0",
      "model_name": "SliderStyleModel",
      "state": {
       "description_width": ""
      }
     },
     "22ff908b89ab4743ac4333643e5a1112": {
      "model_module": "@jupyter-widgets/base",
      "model_module_version": "1.2.0",
      "model_name": "LayoutModel",
      "state": {}
     },
     "28247954380b40dd854c474b2e9e6971": {
      "model_module": "@jupyter-widgets/base",
      "model_module_version": "1.2.0",
      "model_name": "LayoutModel",
      "state": {}
     },
     "4fdb27a407824e119c3f2519dfc14758": {
      "model_module": "@jupyter-widgets/output",
      "model_module_version": "1.0.0",
      "model_name": "OutputModel",
      "state": {
       "layout": "IPY_MODEL_c96c66c643984147836044366218fe59",
       "outputs": [
        {
         "data": {
          "image/png": "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\n",
          "text/plain": "<Figure size 432x288 with 1 Axes>"
         },
         "metadata": {
          "needs_background": "light"
         },
         "output_type": "display_data"
        }
       ]
      }
     },
     "6d3e0ac38f184a8ebe077e6c5dfe66f2": {
      "model_module": "@jupyter-widgets/controls",
      "model_module_version": "1.5.0",
      "model_name": "VBoxModel",
      "state": {
       "_dom_classes": [
        "widget-interact"
       ],
       "children": [
        "IPY_MODEL_a6c6010dd5d642d8a731c81394dece72",
        "IPY_MODEL_4fdb27a407824e119c3f2519dfc14758"
       ],
       "layout": "IPY_MODEL_28247954380b40dd854c474b2e9e6971"
      }
     },
     "810be474ec9347e19682a389ab0d3ded": {
      "model_module": "@jupyter-widgets/controls",
      "model_module_version": "1.5.0",
      "model_name": "SliderStyleModel",
      "state": {
       "description_width": ""
      }
     },
     "8be3306be8cd4f26a4b8260a0e63a5c5": {
      "model_module": "@jupyter-widgets/controls",
      "model_module_version": "1.5.0",
      "model_name": "IntSliderModel",
      "state": {
       "description": "flips",
       "layout": "IPY_MODEL_22ff908b89ab4743ac4333643e5a1112",
       "max": 10000000,
       "min": 1000,
       "step": 100,
       "style": "IPY_MODEL_20efe3ef24d24c64899d6ba6927a12df",
       "value": 5000500
      }
     },
     "92776e12688849cb84b6c4cca675c226": {
      "model_module": "@jupyter-widgets/controls",
      "model_module_version": "1.5.0",
      "model_name": "VBoxModel",
      "state": {
       "_dom_classes": [
        "widget-interact"
       ],
       "children": [
        "IPY_MODEL_8be3306be8cd4f26a4b8260a0e63a5c5",
        "IPY_MODEL_17123a9a2f8d4f1aa997bb1e5f9c0f83"
       ],
       "layout": "IPY_MODEL_10ec5e31c54344149194177f6559b8f7"
      }
     },
     "a6c6010dd5d642d8a731c81394dece72": {
      "model_module": "@jupyter-widgets/controls",
      "model_module_version": "1.5.0",
      "model_name": "IntSliderModel",
      "state": {
       "description": "flips",
       "layout": "IPY_MODEL_dc832be12bf64a6f85fae110a258ce58",
       "max": 10000000,
       "min": 1000,
       "step": 100,
       "style": "IPY_MODEL_810be474ec9347e19682a389ab0d3ded",
       "value": 5000500
      }
     },
     "b577946c04aa4acca1f1045a4c52ccef": {
      "model_module": "@jupyter-widgets/base",
      "model_module_version": "1.2.0",
      "model_name": "LayoutModel",
      "state": {}
     },
     "c96c66c643984147836044366218fe59": {
      "model_module": "@jupyter-widgets/base",
      "model_module_version": "1.2.0",
      "model_name": "LayoutModel",
      "state": {}
     },
     "dc832be12bf64a6f85fae110a258ce58": {
      "model_module": "@jupyter-widgets/base",
      "model_module_version": "1.2.0",
      "model_name": "LayoutModel",
      "state": {}
     }
    },
    "version_major": 2,
    "version_minor": 0
   }
  }
 },
 "nbformat": 4,
 "nbformat_minor": 2
}
